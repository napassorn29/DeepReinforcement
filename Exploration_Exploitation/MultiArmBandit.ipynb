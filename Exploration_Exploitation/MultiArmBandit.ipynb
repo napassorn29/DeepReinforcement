{
 "cells": [
  {
   "cell_type": "code",
   "execution_count": 1,
   "metadata": {},
   "outputs": [
    {
     "name": "stdout",
     "output_type": "stream",
     "text": [
      "[[5, 9], [-10, 5, 3], [-9, -1, 8], [-1, -10]]\n",
      "[[0.54, 0.46], [0.5, 0.17, 0.33], [0.41, 0.53, 0.06], [0.64, 0.36]]\n",
      "[5, -10, -9, -10]\n"
     ]
    }
   ],
   "source": [
    "from bandit import MultiArmBandit\n",
    "from agent import EpsilonGreedy"
   ]
  },
  {
   "cell_type": "code",
   "execution_count": 2,
   "metadata": {},
   "outputs": [
    {
     "name": "stdout",
     "output_type": "stream",
     "text": [
      "[[-2, 0, 2, 4], [2, 3, 0, 4], [5, -5, 10]]\n"
     ]
    }
   ],
   "source": [
    "bandit = MultiArmBandit(3,[[-2,0,2,4],[2,3,0,4],[5,-5,10]],[[0.4,0.2,0.3,0.1],[0.2,0.1,0.5,0.2],[0.2,0.5,0.3]])\n",
    "print(bandit.reward)"
   ]
  },
  {
   "cell_type": "code",
   "execution_count": 3,
   "metadata": {},
   "outputs": [
    {
     "name": "stdout",
     "output_type": "stream",
     "text": [
      "[[7, -6, 3, -5], [1, 10]]\n",
      "[[0.13, 0.53, 0.07, 0.27], [0.42, 0.58]]\n",
      "[-5, 10]\n"
     ]
    }
   ],
   "source": [
    "ban = MultiArmBandit(2)\n",
    "print(ban.reward)\n",
    "print(ban.prob_reward)\n",
    "print(ban.pull_arm())"
   ]
  },
  {
   "cell_type": "code",
   "execution_count": 5,
   "metadata": {},
   "outputs": [],
   "source": [
    "ban1 = EpsilonGreedy(0.5,ban)"
   ]
  },
  {
   "cell_type": "code",
   "execution_count": 6,
   "metadata": {},
   "outputs": [
    {
     "ename": "IndexError",
     "evalue": "list index out of range",
     "output_type": "error",
     "traceback": [
      "\u001b[1;31m---------------------------------------------------------------------------\u001b[0m",
      "\u001b[1;31mIndexError\u001b[0m                                Traceback (most recent call last)",
      "Cell \u001b[1;32mIn[6], line 1\u001b[0m\n\u001b[1;32m----> 1\u001b[0m \u001b[38;5;28mprint\u001b[39m(\u001b[43mban1\u001b[49m\u001b[38;5;241;43m.\u001b[39;49m\u001b[43mrun\u001b[49m\u001b[43m(\u001b[49m\u001b[38;5;241;43m1000\u001b[39;49m\u001b[43m)\u001b[49m)\n",
      "File \u001b[1;32mc:\\FIBO\\3-2\\DRL\\DeepReinforcement\\Exploration_Exploitation\\agent.py:34\u001b[0m, in \u001b[0;36mEpsilonGreedy.run\u001b[1;34m(self, step)\u001b[0m\n\u001b[0;32m     32\u001b[0m     action \u001b[38;5;241m=\u001b[39m \u001b[38;5;28mself\u001b[39m\u001b[38;5;241m.\u001b[39mselect_action()\n\u001b[0;32m     33\u001b[0m     reward \u001b[38;5;241m=\u001b[39m \u001b[38;5;28mself\u001b[39m\u001b[38;5;241m.\u001b[39mbandit\u001b[38;5;241m.\u001b[39mpull_arm()[action]\n\u001b[1;32m---> 34\u001b[0m     \u001b[38;5;28;43mself\u001b[39;49m\u001b[38;5;241;43m.\u001b[39;49m\u001b[43mupdate\u001b[49m\u001b[43m(\u001b[49m\u001b[43maction\u001b[49m\u001b[43m,\u001b[49m\u001b[43m \u001b[49m\u001b[43mreward\u001b[49m\u001b[43m)\u001b[49m\n\u001b[0;32m     35\u001b[0m     reward\u001b[38;5;241m.\u001b[39mappend(reward)\n\u001b[0;32m     36\u001b[0m \u001b[38;5;28;01mreturn\u001b[39;00m reward\n",
      "File \u001b[1;32mc:\\FIBO\\3-2\\DRL\\DeepReinforcement\\Exploration_Exploitation\\agent.py:24\u001b[0m, in \u001b[0;36mEpsilonGreedy.update\u001b[1;34m(self, action, reward)\u001b[0m\n\u001b[0;32m     23\u001b[0m \u001b[38;5;28;01mdef\u001b[39;00m \u001b[38;5;21mupdate\u001b[39m(\u001b[38;5;28mself\u001b[39m, action, reward):\n\u001b[1;32m---> 24\u001b[0m     \u001b[38;5;28;43mself\u001b[39;49m\u001b[38;5;241;43m.\u001b[39;49m\u001b[43maction_counts\u001b[49m\u001b[43m[\u001b[49m\u001b[43maction\u001b[49m\u001b[43m]\u001b[49m \u001b[38;5;241m+\u001b[39m\u001b[38;5;241m=\u001b[39m \u001b[38;5;241m1\u001b[39m\n\u001b[0;32m     25\u001b[0m     \u001b[38;5;28mself\u001b[39m\u001b[38;5;241m.\u001b[39maction_values[action] \u001b[38;5;241m+\u001b[39m\u001b[38;5;241m=\u001b[39m (reward \u001b[38;5;241m-\u001b[39m \u001b[38;5;28mself\u001b[39m\u001b[38;5;241m.\u001b[39maction_values[action]) \u001b[38;5;241m/\u001b[39m \u001b[38;5;28mself\u001b[39m\u001b[38;5;241m.\u001b[39maction_counts[action]\n\u001b[0;32m     26\u001b[0m     \u001b[38;5;28mself\u001b[39m\u001b[38;5;241m.\u001b[39mreward_history\u001b[38;5;241m.\u001b[39mappend(reward)\n",
      "\u001b[1;31mIndexError\u001b[0m: list index out of range"
     ]
    }
   ],
   "source": [
    "print(ban1.run(1000))"
   ]
  }
 ],
 "metadata": {
  "kernelspec": {
   "display_name": "Python 3",
   "language": "python",
   "name": "python3"
  },
  "language_info": {
   "codemirror_mode": {
    "name": "ipython",
    "version": 3
   },
   "file_extension": ".py",
   "mimetype": "text/x-python",
   "name": "python",
   "nbconvert_exporter": "python",
   "pygments_lexer": "ipython3",
   "version": "3.11.4"
  }
 },
 "nbformat": 4,
 "nbformat_minor": 2
}
