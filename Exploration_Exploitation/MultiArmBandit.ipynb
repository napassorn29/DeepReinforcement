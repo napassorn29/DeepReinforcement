{
 "cells": [
  {
   "cell_type": "code",
   "execution_count": 53,
   "metadata": {},
   "outputs": [],
   "source": [
    "from bandit import MultiArmBandit"
   ]
  },
  {
   "cell_type": "code",
   "execution_count": 50,
   "metadata": {},
   "outputs": [
    {
     "name": "stdout",
     "output_type": "stream",
     "text": [
      "[[-2, 0, 2, 4], [2, 3, 0, 4], [5, -5, 10]]\n"
     ]
    }
   ],
   "source": [
    "bandit = MultiArmBandit(3,[[-2,0,2,4],[2,3,0,4],[5,-5,10]],[[0.4,0.2,0.3,0.1],[0.2,0.1,0.5,0.2],[0.2,0.5,0.3]])\n",
    "print(bandit.reward)"
   ]
  },
  {
   "cell_type": "code",
   "execution_count": 65,
   "metadata": {},
   "outputs": [
    {
     "ename": "TypeError",
     "evalue": "MultiArmBandit.__init__() missing 2 required positional arguments: 'rewards' and 'prob_reward'",
     "output_type": "error",
     "traceback": [
      "\u001b[1;31m---------------------------------------------------------------------------\u001b[0m",
      "\u001b[1;31mTypeError\u001b[0m                                 Traceback (most recent call last)",
      "Cell \u001b[1;32mIn[65], line 1\u001b[0m\n\u001b[1;32m----> 1\u001b[0m ban \u001b[38;5;241m=\u001b[39m \u001b[43mMultiArmBandit\u001b[49m\u001b[43m(\u001b[49m\u001b[38;5;241;43m2\u001b[39;49m\u001b[43m)\u001b[49m\n",
      "\u001b[1;31mTypeError\u001b[0m: MultiArmBandit.__init__() missing 2 required positional arguments: 'rewards' and 'prob_reward'"
     ]
    }
   ],
   "source": [
    "ban = MultiArmBandit(2)"
   ]
  }
 ],
 "metadata": {
  "kernelspec": {
   "display_name": "Python 3",
   "language": "python",
   "name": "python3"
  },
  "language_info": {
   "codemirror_mode": {
    "name": "ipython",
    "version": 3
   },
   "file_extension": ".py",
   "mimetype": "text/x-python",
   "name": "python",
   "nbconvert_exporter": "python",
   "pygments_lexer": "ipython3",
   "version": "3.11.4"
  }
 },
 "nbformat": 4,
 "nbformat_minor": 2
}
